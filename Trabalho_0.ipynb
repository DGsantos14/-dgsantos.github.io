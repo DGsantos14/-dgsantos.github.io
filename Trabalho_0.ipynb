{
  "nbformat": 4,
  "nbformat_minor": 0,
  "metadata": {
    "colab": {
      "name": "Trabalho_0.ipynb",
      "provenance": [],
      "collapsed_sections": [],
      "authorship_tag": "ABX9TyNO58c8R0CN0GTq+2ALM2PR",
      "include_colab_link": true
    },
    "kernelspec": {
      "name": "python3",
      "display_name": "Python 3"
    }
  },
  "cells": [
    {
      "cell_type": "markdown",
      "metadata": {
        "id": "view-in-github",
        "colab_type": "text"
      },
      "source": [
        "<a href=\"https://colab.research.google.com/github/DGsantos14/-dgsantos.github.io/blob/master/Trabalho_0.ipynb\" target=\"_parent\"><img src=\"https://colab.research.google.com/assets/colab-badge.svg\" alt=\"Open In Colab\"/></a>"
      ]
    },
    {
      "cell_type": "code",
      "metadata": {
        "id": "9fJY6krqL22s",
        "colab_type": "code",
        "colab": {}
      },
      "source": [
        ""
      ],
      "execution_count": 0,
      "outputs": []
    },
    {
      "cell_type": "markdown",
      "metadata": {
        "id": "ABVuNFOvL6YJ",
        "colab_type": "text"
      },
      "source": [
        ""
      ]
    },
    {
      "cell_type": "code",
      "metadata": {
        "id": "unMyoVNSNkvm",
        "colab_type": "code",
        "outputId": "2633b52f-38d2-47ab-b978-a72239d9aaa9",
        "colab": {
          "base_uri": "https://localhost:8080/",
          "height": 34
        }
      },
      "source": [
        "# uma soma simples \n",
        "10 + 20"
      ],
      "execution_count": 0,
      "outputs": [
        {
          "output_type": "execute_result",
          "data": {
            "text/plain": [
              "30"
            ]
          },
          "metadata": {
            "tags": []
          },
          "execution_count": 2
        }
      ]
    },
    {
      "cell_type": "code",
      "metadata": {
        "id": "6EzpBxQOOC4m",
        "colab_type": "code",
        "colab": {}
      },
      "source": [
        "#Carregando o pacote pandas\n",
        "import pandas as pd\n",
        "\n",
        "# carregar o conjunto de dados sobre restaurantes\n",
        "\n",
        "restaurantes = pd.read_csv('https://raw.githubusercontent.com/lincolnfrias/dados/master/restaurante1.csv')"
      ],
      "execution_count": 0,
      "outputs": []
    },
    {
      "cell_type": "code",
      "metadata": {
        "id": "tjOP5xrbOiQz",
        "colab_type": "code",
        "outputId": "d8ed4bc1-86a2-47cb-9df5-7865ea5da8bb",
        "colab": {
          "base_uri": "https://localhost:8080/",
          "height": 204
        }
      },
      "source": [
        "restaurantes.head()"
      ],
      "execution_count": 0,
      "outputs": [
        {
          "output_type": "execute_result",
          "data": {
            "text/html": [
              "<div>\n",
              "<style scoped>\n",
              "    .dataframe tbody tr th:only-of-type {\n",
              "        vertical-align: middle;\n",
              "    }\n",
              "\n",
              "    .dataframe tbody tr th {\n",
              "        vertical-align: top;\n",
              "    }\n",
              "\n",
              "    .dataframe thead th {\n",
              "        text-align: right;\n",
              "    }\n",
              "</style>\n",
              "<table border=\"1\" class=\"dataframe\">\n",
              "  <thead>\n",
              "    <tr style=\"text-align: right;\">\n",
              "      <th></th>\n",
              "      <th>mes</th>\n",
              "      <th>receitas</th>\n",
              "      <th>despesas</th>\n",
              "    </tr>\n",
              "  </thead>\n",
              "  <tbody>\n",
              "    <tr>\n",
              "      <th>0</th>\n",
              "      <td>janeiro</td>\n",
              "      <td>18248</td>\n",
              "      <td>9677</td>\n",
              "    </tr>\n",
              "    <tr>\n",
              "      <th>1</th>\n",
              "      <td>fevereiro</td>\n",
              "      <td>13776</td>\n",
              "      <td>9615</td>\n",
              "    </tr>\n",
              "    <tr>\n",
              "      <th>2</th>\n",
              "      <td>marco</td>\n",
              "      <td>13943</td>\n",
              "      <td>11133</td>\n",
              "    </tr>\n",
              "    <tr>\n",
              "      <th>3</th>\n",
              "      <td>abril</td>\n",
              "      <td>12854</td>\n",
              "      <td>8900</td>\n",
              "    </tr>\n",
              "    <tr>\n",
              "      <th>4</th>\n",
              "      <td>maio</td>\n",
              "      <td>16730</td>\n",
              "      <td>9827</td>\n",
              "    </tr>\n",
              "  </tbody>\n",
              "</table>\n",
              "</div>"
            ],
            "text/plain": [
              "         mes  receitas  despesas\n",
              "0    janeiro     18248      9677\n",
              "1  fevereiro     13776      9615\n",
              "2      marco     13943     11133\n",
              "3      abril     12854      8900\n",
              "4       maio     16730      9827"
            ]
          },
          "metadata": {
            "tags": []
          },
          "execution_count": 4
        }
      ]
    },
    {
      "cell_type": "code",
      "metadata": {
        "id": "Ngb8fV7-OubZ",
        "colab_type": "code",
        "outputId": "1c563c8d-572b-433f-d27e-59a124927936",
        "colab": {
          "base_uri": "https://localhost:8080/",
          "height": 265
        }
      },
      "source": [
        "restaurantes.receitas.plot();"
      ],
      "execution_count": 0,
      "outputs": [
        {
          "output_type": "display_data",
          "data": {
            "image/png": "[encoded data removed]",
            "text/plain": [
              "<Figure size 432x288 with 1 Axes>"
            ]
          },
          "metadata": {
            "tags": []
          }
        }
      ]
    },
    {
      "cell_type": "code",
      "metadata": {
        "id": "VnqfTazsPDEE",
        "colab_type": "code",
        "outputId": "ab040dae-c387-4057-f3a5-00154fd75750",
        "colab": {
          "base_uri": "https://localhost:8080/",
          "height": 296
        }
      },
      "source": [
        "restaurantes.plot.scatter('despesas', 'receitas', s=100)"
      ],
      "execution_count": 0,
      "outputs": [
        {
          "output_type": "execute_result",
          "data": {
            "text/plain": [
              "<matplotlib.axes._subplots.AxesSubplot at 0x7fc368507f28>"
            ]
          },
          "metadata": {
            "tags": []
          },
          "execution_count": 6
        },
        {
          "output_type": "display_data",
          "data": {
            "image/png": "[encoded data removed]",
            "text/plain": [
              "<Figure size 432x288 with 1 Axes>"
            ]
          },
          "metadata": {
            "tags": []
          }
        }
      ]
    },
    {
      "cell_type": "markdown",
      "metadata": {
        "id": "FxuT9B2fPixv",
        "colab_type": "text"
      },
      "source": [
        "Mostra o tamanho do dataframe (linha e colunas):"
      ]
    },
    {
      "cell_type": "code",
      "metadata": {
        "id": "w7og072WPs5k",
        "colab_type": "code",
        "outputId": "3a022ae9-6a47-46ef-af5d-83fc563c4d8a",
        "colab": {
          "base_uri": "https://localhost:8080/",
          "height": 34
        }
      },
      "source": [
        "restaurantes.shape"
      ],
      "execution_count": 0,
      "outputs": [
        {
          "output_type": "execute_result",
          "data": {
            "text/plain": [
              "(12, 3)"
            ]
          },
          "metadata": {
            "tags": []
          },
          "execution_count": 7
        }
      ]
    },
    {
      "cell_type": "markdown",
      "metadata": {
        "id": "L6VfsQ-9P18x",
        "colab_type": "text"
      },
      "source": [
        "Mostra apenas uma das colunas, apenas os 5 primeiros elementos:"
      ]
    },
    {
      "cell_type": "code",
      "metadata": {
        "id": "OewT87hfQDqq",
        "colab_type": "code",
        "outputId": "ee9325ad-4bc4-494f-989e-c76dd8509f57",
        "colab": {
          "base_uri": "https://localhost:8080/",
          "height": 119
        }
      },
      "source": [
        "restaurantes.receitas[0:5]"
      ],
      "execution_count": 0,
      "outputs": [
        {
          "output_type": "execute_result",
          "data": {
            "text/plain": [
              "0    18248\n",
              "1    13776\n",
              "2    13943\n",
              "3    12854\n",
              "4    16730\n",
              "Name: receitas, dtype: int64"
            ]
          },
          "metadata": {
            "tags": []
          },
          "execution_count": 8
        }
      ]
    },
    {
      "cell_type": "markdown",
      "metadata": {
        "id": "rMflQtrlQRT9",
        "colab_type": "text"
      },
      "source": [
        "Adicinar 500 à coluna receitas.\n"
      ]
    },
    {
      "cell_type": "code",
      "metadata": {
        "id": "_39YKx1hQdQ-",
        "colab_type": "code",
        "outputId": "a6ab5ed4-2a50-4229-9e96-373e7610e650",
        "colab": {
          "base_uri": "https://localhost:8080/",
          "height": 119
        }
      },
      "source": [
        "restaurantes.receitas[0:5] + 500"
      ],
      "execution_count": 0,
      "outputs": [
        {
          "output_type": "execute_result",
          "data": {
            "text/plain": [
              "0    18748\n",
              "1    14276\n",
              "2    14443\n",
              "3    13354\n",
              "4    17230\n",
              "Name: receitas, dtype: int64"
            ]
          },
          "metadata": {
            "tags": []
          },
          "execution_count": 9
        }
      ]
    },
    {
      "cell_type": "markdown",
      "metadata": {
        "id": "bs8rSMxkQtD5",
        "colab_type": "text"
      },
      "source": [
        "Somar receitas ao longo do ano:"
      ]
    },
    {
      "cell_type": "code",
      "metadata": {
        "id": "aC2xYNc1QzON",
        "colab_type": "code",
        "outputId": "c1b870c8-0ab3-4d42-8b1e-419937a5b7e8",
        "colab": {
          "base_uri": "https://localhost:8080/",
          "height": 34
        }
      },
      "source": [
        "restaurantes.receitas.sum()"
      ],
      "execution_count": 0,
      "outputs": [
        {
          "output_type": "execute_result",
          "data": {
            "text/plain": [
              "176855"
            ]
          },
          "metadata": {
            "tags": []
          },
          "execution_count": 10
        }
      ]
    },
    {
      "cell_type": "markdown",
      "metadata": {
        "id": "QBxZ5BObQ89q",
        "colab_type": "text"
      },
      "source": [
        "Calcular um resumo estatísco das receitas (arredodamento para uma casa decimal):"
      ]
    },
    {
      "cell_type": "code",
      "metadata": {
        "id": "q5ohi2OaRNNJ",
        "colab_type": "code",
        "outputId": "d770ac60-f050-4e14-afda-c6ded465b096",
        "colab": {
          "base_uri": "https://localhost:8080/",
          "height": 170
        }
      },
      "source": [
        "restaurantes.receitas.describe().round(1)"
      ],
      "execution_count": 0,
      "outputs": [
        {
          "output_type": "execute_result",
          "data": {
            "text/plain": [
              "count       12.0\n",
              "mean     14737.9\n",
              "std       2727.3\n",
              "min      10396.0\n",
              "25%      13321.2\n",
              "50%      14222.0\n",
              "75%      17028.5\n",
              "max      18489.0\n",
              "Name: receitas, dtype: float64"
            ]
          },
          "metadata": {
            "tags": []
          },
          "execution_count": 11
        }
      ]
    },
    {
      "cell_type": "markdown",
      "metadata": {
        "id": "CNyWGSbWRZWE",
        "colab_type": "text"
      },
      "source": [
        "Calcular a margem e lucro (receitas menos despesas) em cada mês, criando uma nova coluna:\n",
        "\n"
      ]
    },
    {
      "cell_type": "code",
      "metadata": {
        "id": "EVxDD6shRnTl",
        "colab_type": "code",
        "outputId": "fb9bf78c-3730-4fd2-a5f8-a034dff347d7",
        "colab": {
          "base_uri": "https://localhost:8080/",
          "height": 119
        }
      },
      "source": [
        "restaurantes['margem'] = restaurantes.receitas -restaurantes.despesas\n",
        "#mostra osprimeiros elemntos da nova coluna\n",
        "restaurantes.margem[0:5]"
      ],
      "execution_count": 0,
      "outputs": [
        {
          "output_type": "execute_result",
          "data": {
            "text/plain": [
              "0    8571\n",
              "1    4161\n",
              "2    2810\n",
              "3    3954\n",
              "4    6903\n",
              "Name: margem, dtype: int64"
            ]
          },
          "metadata": {
            "tags": []
          },
          "execution_count": 12
        }
      ]
    },
    {
      "cell_type": "markdown",
      "metadata": {
        "id": "xBXrP331SA1u",
        "colab_type": "text"
      },
      "source": [
        "Ordenar os dados de acordo com a margem de lucro:"
      ]
    },
    {
      "cell_type": "code",
      "metadata": {
        "id": "eNoC8A8tSGJv",
        "colab_type": "code",
        "outputId": "eb56b767-40ae-4de9-87a0-df2a07652278",
        "colab": {
          "base_uri": "https://localhost:8080/",
          "height": 204
        }
      },
      "source": [
        "restaurantes.sort_values(by='margem' , ascending=False).head()"
      ],
      "execution_count": 0,
      "outputs": [
        {
          "output_type": "execute_result",
          "data": {
            "text/html": [
              "<div>\n",
              "<style scoped>\n",
              "    .dataframe tbody tr th:only-of-type {\n",
              "        vertical-align: middle;\n",
              "    }\n",
              "\n",
              "    .dataframe tbody tr th {\n",
              "        vertical-align: top;\n",
              "    }\n",
              "\n",
              "    .dataframe thead th {\n",
              "        text-align: right;\n",
              "    }\n",
              "</style>\n",
              "<table border=\"1\" class=\"dataframe\">\n",
              "  <thead>\n",
              "    <tr style=\"text-align: right;\">\n",
              "      <th></th>\n",
              "      <th>mes</th>\n",
              "      <th>receitas</th>\n",
              "      <th>despesas</th>\n",
              "      <th>margem</th>\n",
              "    </tr>\n",
              "  </thead>\n",
              "  <tbody>\n",
              "    <tr>\n",
              "      <th>0</th>\n",
              "      <td>janeiro</td>\n",
              "      <td>18248</td>\n",
              "      <td>9677</td>\n",
              "      <td>8571</td>\n",
              "    </tr>\n",
              "    <tr>\n",
              "      <th>6</th>\n",
              "      <td>julho</td>\n",
              "      <td>18489</td>\n",
              "      <td>10042</td>\n",
              "      <td>8447</td>\n",
              "    </tr>\n",
              "    <tr>\n",
              "      <th>10</th>\n",
              "      <td>novembro</td>\n",
              "      <td>17924</td>\n",
              "      <td>10901</td>\n",
              "      <td>7023</td>\n",
              "    </tr>\n",
              "    <tr>\n",
              "      <th>4</th>\n",
              "      <td>maio</td>\n",
              "      <td>16730</td>\n",
              "      <td>9827</td>\n",
              "      <td>6903</td>\n",
              "    </tr>\n",
              "    <tr>\n",
              "      <th>8</th>\n",
              "      <td>setembro</td>\n",
              "      <td>15638</td>\n",
              "      <td>8899</td>\n",
              "      <td>6739</td>\n",
              "    </tr>\n",
              "  </tbody>\n",
              "</table>\n",
              "</div>"
            ],
            "text/plain": [
              "         mes  receitas  despesas  margem\n",
              "0    janeiro     18248      9677    8571\n",
              "6      julho     18489     10042    8447\n",
              "10  novembro     17924     10901    7023\n",
              "4       maio     16730      9827    6903\n",
              "8   setembro     15638      8899    6739"
            ]
          },
          "metadata": {
            "tags": []
          },
          "execution_count": 14
        }
      ]
    }
  ]
}