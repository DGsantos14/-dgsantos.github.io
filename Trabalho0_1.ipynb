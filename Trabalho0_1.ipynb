{
  "nbformat": 4,
  "nbformat_minor": 0,
  "metadata": {
    "colab": {
      "name": "Trabalho0.1.ipynb",
      "provenance": [],
      "authorship_tag": "ABX9TyPWE6TnX8uqYBUuWHMXZbCN",
      "include_colab_link": true
    },
    "kernelspec": {
      "name": "python3",
      "display_name": "Python 3"
    }
  },
  "cells": [
    {
      "cell_type": "markdown",
      "metadata": {
        "id": "view-in-github",
        "colab_type": "text"
      },
      "source": [
        "<a href=\"https://colab.research.google.com/github/DGsantos14/-dgsantos.github.io/blob/master/Trabalho0_1.ipynb\" target=\"_parent\"><img src=\"https://colab.research.google.com/assets/colab-badge.svg\" alt=\"Open In Colab\"/></a>"
      ]
    },
    {
      "cell_type": "markdown",
      "metadata": {
        "id": "g_xQ417gRjvv",
        "colab_type": "text"
      },
      "source": [
        "#Magics\n",
        "Colaborativo compartilha a noção de magia de Jupyter. Existem anotações abreviadas que alteram como o texto de uma célula é executado. Para saber mais, consulte a página de mágica de Jupyter ."
      ]
    },
    {
      "cell_type": "code",
      "metadata": {
        "id": "wJ5NPiNwRqAc",
        "colab_type": "code",
        "outputId": "b3f1eab6-77f5-4af2-a8c7-33ea739a0e63",
        "colab": {
          "base_uri": "https://localhost:8080/",
          "height": 38
        }
      },
      "source": [
        "%%html\n",
        "<marquee style ='width: 40%; color: blue ;' ><b> DGsantosFkZ! </b> </marquee>"
      ],
      "execution_count": 0,
      "outputs": [
        {
          "output_type": "display_data",
          "data": {
            "text/html": [
              "<marquee style ='width: 40%; color: blue ;' ><b> DGsantosFkZ </b> </marquee>"
            ],
            "text/plain": [
              "<IPython.core.display.HTML object>"
            ]
          },
          "metadata": {
            "tags": []
          }
        }
      ]
    },
    {
      "cell_type": "markdown",
      "metadata": {
        "id": "m5y4UODSTq86",
        "colab_type": "text"
      },
      "source": [
        "#Saidas ricas e interativas\n",
        "Até agora, todas as saídas geradas eram de texto, mas podem ser mais interessantes, como o gráfico abaixo."
      ]
    },
    {
      "cell_type": "code",
      "metadata": {
        "id": "-rXCUq7ETzXC",
        "colab_type": "code",
        "outputId": "1f8d9e51-d0b5-4f76-c0a1-b47212906858",
        "colab": {
          "base_uri": "https://localhost:8080/",
          "height": 281
        }
      },
      "source": [
        "import numpy as np\n",
        "from matplotlib import pyplot as plt\n",
        "\n",
        "ys = 200 + np.random.randn(100)\n",
        "x = [x for x in range(len(ys))]\n",
        "\n",
        "plt.plot(x, ys, '-')\n",
        "plt.fill_between(x, ys, 195, where=(ys > 195), facecolor='g', alpha=0.6)\n",
        "\n",
        "plt.title(\"Fills and Alpha Example\")\n",
        "plt.show()"
      ],
      "execution_count": 0,
      "outputs": [
        {
          "output_type": "display_data",
          "data": {
            "image/png": "[encoded data removed]",
            "text/plain": [
              "<Figure size 432x288 with 1 Axes>"
            ]
          },
          "metadata": {
            "tags": []
          }
        }
      ]
    },
    {
      "cell_type": "markdown",
      "metadata": {
        "id": "A1qRjhuCcQ_6",
        "colab_type": "text"
      },
      "source": [
        "#**Grid**"
      ]
    },
    {
      "cell_type": "code",
      "metadata": {
        "id": "1J0tm0HhchEt",
        "colab_type": "code",
        "outputId": "cde30ff7-5462-4cf5-e654-cd1afdabe67f",
        "colab": {
          "base_uri": "https://localhost:8080/",
          "height": 75
        }
      },
      "source": [
        "from google.colab import widgets\n",
        "\n",
        "print(\"Eu sou a primeira declaração da primeira célula\")\n",
        "\n",
        "#criando a primeira grade\n",
        "\n",
        "grid = widgets.Grid(2, 2, header_row=True, header_column=True)\n",
        "with grid.output_to(1, 1):\n",
        "  print(\"Bye grid\")\n",
        "\n",
        "with grid.output_to(0, 0):\n",
        "  print(\"Heloo grid\")\n",
        "\n",
        "with grid.output_to(1, 0):\n",
        "  print(\"Back inside!\")    \n"
      ],
      "execution_count": 0,
      "outputs": [
        {
          "output_type": "stream",
          "text": [
            "Eu sou a primeira declaração da primeira célula\n"
          ],
          "name": "stdout"
        },
        {
          "output_type": "display_data",
          "data": {
            "text/html": [
              "<style>\n",
              "       table#id2, #id2 > tbody > tr > th, #id2 > tbody > tr > td {\n",
              "         border: 1px solid lightgray;\n",
              "         border-collapse:collapse;\n",
              "         \n",
              "        }</style>"
            ],
            "text/plain": [
              "<IPython.core.display.HTML object>"
            ]
          },
          "metadata": {
            "tags": [
              "outputarea_id2"
            ]
          }
        },
        {
          "output_type": "display_data",
          "data": {
            "text/html": [
              "<table id=id2><tr><th id=id2-0-0></th><th id=id2-0-1></th></tr><tr><th id=id2-1-0></th><td id=id2-1-1></td></tr></table>"
            ],
            "text/plain": [
              "<IPython.core.display.HTML object>"
            ]
          },
          "metadata": {
            "tags": [
              "outputarea_id2"
            ]
          }
        },
        {
          "output_type": "display_data",
          "data": {
            "application/javascript": [
              "window[\"d4f9af60-3c58-11ea-9a48-0242ac1c0002\"] = google.colab.output.getActiveOutputArea();\n",
              "//# sourceURL=js_e3bd3746ee"
            ],
            "text/plain": [
              "<IPython.core.display.Javascript object>"
            ]
          },
          "metadata": {
            "tags": [
              "id2-1-1",
              "outputarea_id2"
            ]
          }
        },
        {
          "output_type": "display_data",
          "data": {
            "application/javascript": [
              "window[\"d4f9f466-3c58-11ea-9a48-0242ac1c0002\"] = document.querySelector(\"#id2-1-1\");\n",
              "//# sourceURL=js_d522531b9f"
            ],
            "text/plain": [
              "<IPython.core.display.Javascript object>"
            ]
          },
          "metadata": {
            "tags": [
              "id2-1-1",
              "outputarea_id2"
            ]
          }
        },
        {
          "output_type": "display_data",
          "data": {
            "application/javascript": [
              "window[\"d4fa5762-3c58-11ea-9a48-0242ac1c0002\"] = google.colab.output.setActiveOutputArea(window[\"d4f9f466-3c58-11ea-9a48-0242ac1c0002\"]);\n",
              "//# sourceURL=js_437942d0d6"
            ],
            "text/plain": [
              "<IPython.core.display.Javascript object>"
            ]
          },
          "metadata": {
            "tags": [
              "id2-1-1",
              "outputarea_id2"
            ]
          }
        },
        {
          "output_type": "stream",
          "text": [
            "Bye grid\n"
          ],
          "name": "stdout"
        },
        {
          "output_type": "display_data",
          "data": {
            "application/javascript": [
              "window[\"d4fc03f0-3c58-11ea-9a48-0242ac1c0002\"] = google.colab.output.setActiveOutputArea(window[\"d4f9af60-3c58-11ea-9a48-0242ac1c0002\"]);\n",
              "//# sourceURL=js_8e67c7a6d0"
            ],
            "text/plain": [
              "<IPython.core.display.Javascript object>"
            ]
          },
          "metadata": {
            "tags": [
              "id2-1-1",
              "outputarea_id2"
            ]
          }
        },
        {
          "output_type": "display_data",
          "data": {
            "application/javascript": [
              "window[\"d4fe03f8-3c58-11ea-9a48-0242ac1c0002\"] = google.colab.output.getActiveOutputArea();\n",
              "//# sourceURL=js_50d8425a4c"
            ],
            "text/plain": [
              "<IPython.core.display.Javascript object>"
            ]
          },
          "metadata": {
            "tags": [
              "id2-0-0",
              "outputarea_id2"
            ]
          }
        },
        {
          "output_type": "display_data",
          "data": {
            "application/javascript": [
              "window[\"d4fe6c3a-3c58-11ea-9a48-0242ac1c0002\"] = document.querySelector(\"#id2-0-0\");\n",
              "//# sourceURL=js_a7aee16631"
            ],
            "text/plain": [
              "<IPython.core.display.Javascript object>"
            ]
          },
          "metadata": {
            "tags": [
              "id2-0-0",
              "outputarea_id2"
            ]
          }
        },
        {
          "output_type": "display_data",
          "data": {
            "application/javascript": [
              "window[\"d4febb54-3c58-11ea-9a48-0242ac1c0002\"] = google.colab.output.setActiveOutputArea(window[\"d4fe6c3a-3c58-11ea-9a48-0242ac1c0002\"]);\n",
              "//# sourceURL=js_d08832dee2"
            ],
            "text/plain": [
              "<IPython.core.display.Javascript object>"
            ]
          },
          "metadata": {
            "tags": [
              "id2-0-0",
              "outputarea_id2"
            ]
          }
        },
        {
          "output_type": "stream",
          "text": [
            "Heloo grid\n"
          ],
          "name": "stdout"
        },
        {
          "output_type": "display_data",
          "data": {
            "application/javascript": [
              "window[\"d50042f8-3c58-11ea-9a48-0242ac1c0002\"] = google.colab.output.setActiveOutputArea(window[\"d4fe03f8-3c58-11ea-9a48-0242ac1c0002\"]);\n",
              "//# sourceURL=js_2697a82fc9"
            ],
            "text/plain": [
              "<IPython.core.display.Javascript object>"
            ]
          },
          "metadata": {
            "tags": [
              "id2-0-0",
              "outputarea_id2"
            ]
          }
        },
        {
          "output_type": "display_data",
          "data": {
            "application/javascript": [
              "window[\"d502661e-3c58-11ea-9a48-0242ac1c0002\"] = google.colab.output.getActiveOutputArea();\n",
              "//# sourceURL=js_a6f2f81088"
            ],
            "text/plain": [
              "<IPython.core.display.Javascript object>"
            ]
          },
          "metadata": {
            "tags": [
              "id2-1-0",
              "outputarea_id2"
            ]
          }
        },
        {
          "output_type": "display_data",
          "data": {
            "application/javascript": [
              "window[\"d502bf6a-3c58-11ea-9a48-0242ac1c0002\"] = document.querySelector(\"#id2-1-0\");\n",
              "//# sourceURL=js_401b0e87b5"
            ],
            "text/plain": [
              "<IPython.core.display.Javascript object>"
            ]
          },
          "metadata": {
            "tags": [
              "id2-1-0",
              "outputarea_id2"
            ]
          }
        },
        {
          "output_type": "display_data",
          "data": {
            "application/javascript": [
              "window[\"d50329b4-3c58-11ea-9a48-0242ac1c0002\"] = google.colab.output.setActiveOutputArea(window[\"d502bf6a-3c58-11ea-9a48-0242ac1c0002\"]);\n",
              "//# sourceURL=js_987cf375fa"
            ],
            "text/plain": [
              "<IPython.core.display.Javascript object>"
            ]
          },
          "metadata": {
            "tags": [
              "id2-1-0",
              "outputarea_id2"
            ]
          }
        },
        {
          "output_type": "stream",
          "text": [
            "Back inside!\n"
          ],
          "name": "stdout"
        },
        {
          "output_type": "display_data",
          "data": {
            "application/javascript": [
              "window[\"d504d0c0-3c58-11ea-9a48-0242ac1c0002\"] = google.colab.output.setActiveOutputArea(window[\"d502661e-3c58-11ea-9a48-0242ac1c0002\"]);\n",
              "//# sourceURL=js_35b934cb79"
            ],
            "text/plain": [
              "<IPython.core.display.Javascript object>"
            ]
          },
          "metadata": {
            "tags": [
              "id2-1-0",
              "outputarea_id2"
            ]
          }
        }
      ]
    },
    {
      "cell_type": "markdown",
      "metadata": {
        "id": "BAU5UIZCeEfm",
        "colab_type": "text"
      },
      "source": [
        "##**Barra de Abas **\n",
        "\n",
        "O TabBar fornece uma interface de usuário com guias que mostra um grupo de saídas entre várias, enquanto oculta o restante. Todas as saídas podem ser enviadas para as guias: print () simples, gráficos matplotlib ou qualquer saída das ricas bibliotecas interativas.\n",
        "\n",
        "#Exemplo\n"
      ]
    },
    {
      "cell_type": "code",
      "metadata": {
        "id": "0nOsxu_KeTTI",
        "colab_type": "code",
        "colab": {}
      },
      "source": [
        "from __future__ import print_function\n",
        "\n",
        "from google.colab import widgets\n",
        "from google.colab import output\n",
        "from matplotlib import pylab\n",
        "from six.moves import zip\n",
        "\n",
        "def create_tab(location):\n",
        "  tb = widgetd.TabBar(['a', 'b'], location=location)\n",
        "  with tb.output_to('a'):\n",
        "    pylab.figure(figsize=(3, 3))\n",
        "    pylab.plto([1, 2, 3])\n",
        "#observe que podemos acesar o guia pelo nome  (se for exclusivo) ou \n",
        "#pelo seu indice.\n",
        "  with tb.output_to(1):\n",
        "    pylab.figure(figsize=(3, 3))\n",
        "    pylab.plot([3, 2, 3])\n",
        "    pylab.show()\n",
        "\n",
        "    print('Orientação diferentes de guias') \n",
        "\n",
        "\n",
        "    positions = ['start', 'bottom',]  \n",
        "\n",
        "    for p, _ in zip(positions, widgets.Grid(1, 4)):\n",
        "      print('---- %s ---'% p)\n",
        "      create_tab(p)\n"
      ],
      "execution_count": 0,
      "outputs": []
    }
  ]
}