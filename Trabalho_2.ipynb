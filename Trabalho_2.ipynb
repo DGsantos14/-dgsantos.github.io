{
  "nbformat": 4,
  "nbformat_minor": 0,
  "metadata": {
    "colab": {
      "name": "Trabalho_2.ipynb",
      "provenance": [],
      "collapsed_sections": [],
      "authorship_tag": "ABX9TyPEGpXcUD584iagwEx3MZ94",
      "include_colab_link": true
    },
    "kernelspec": {
      "name": "python3",
      "display_name": "Python 3"
    }
  },
  "cells": [
    {
      "cell_type": "markdown",
      "metadata": {
        "id": "view-in-github",
        "colab_type": "text"
      },
      "source": [
        "<a href=\"https://colab.research.google.com/github/DGsantos14/-dgsantos.github.io/blob/master/Trabalho_2.ipynb\" target=\"_parent\"><img src=\"https://colab.research.google.com/assets/colab-badge.svg\" alt=\"Open In Colab\"/></a>"
      ]
    },
    {
      "cell_type": "markdown",
      "metadata": {
        "id": "CEGMgqcQkdrF",
        "colab_type": "text"
      },
      "source": [
        "##**Criando tabelas e gráficos manualmente**\n",
        "\n",
        "Nem sempre temos acesso ao conjunto de dados que gerou determinada tabeça ou gráfico de um texto que estamos lendo.\n",
        "Nesses casos é preciso inserir os dados um a um.\n",
        "\n",
        "Aqui vamos reconstruir alguns gráficos e tabelas da Síntese de Indicadores Sociais, 2016, do IBGE."
      ]
    },
    {
      "cell_type": "code",
      "metadata": {
        "id": "qXYTUC_mkqDW",
        "colab_type": "code",
        "colab": {}
      },
      "source": [
        "%matplotlib inline\n",
        "import pandas as pd\n",
        "import numpy as np\n",
        "import matplotlib.pyplot as plt\n",
        "import seaborn as sns\n",
        "sns.set(style='whitegrid', palette='Accent')\n"
      ],
      "execution_count": 0,
      "outputs": []
    },
    {
      "cell_type": "markdown",
      "metadata": {
        "id": "IzINetF-mTHa",
        "colab_type": "text"
      },
      "source": [
        "## Tabela 2 (p. 19) - Natureza da união conjugal, segundo o sexo"
      ]
    },
    {
      "cell_type": "code",
      "metadata": {
        "id": "s7Ey8Ar7mRWO",
        "colab_type": "code",
        "colab": {}
      },
      "source": [
        "dados = {\n",
        "    'sexo': ['total', 'homens', 'mulheres'],\n",
        "    'viviam_total': [56.3, 58.8, 54.1],\n",
        "    'viviam_casamento': [36.5, 38.1, 35.1],\n",
        "    'viviam_uniao': [19.8, 20.7, 19],\n",
        "    'nao_viviam_ja': [18.3, 12.1, 23.9],\n",
        "    'não_viviam_nunca': [25.4, 29.1, 22]\n",
        "}"
      ],
      "execution_count": 0,
      "outputs": []
    },
    {
      "cell_type": "code",
      "metadata": {
        "id": "CvnL96t-nWPO",
        "colab_type": "code",
        "colab": {}
      },
      "source": [
        "df = pd.DataFrame(dados)"
      ],
      "execution_count": 0,
      "outputs": []
    },
    {
      "cell_type": "code",
      "metadata": {
        "id": "B3TnLBVdnbby",
        "colab_type": "code",
        "colab": {
          "base_uri": "https://localhost:8080/",
          "height": 68
        },
        "outputId": "7f500e85-1a0a-45cf-f8c9-97c36128cabb"
      },
      "source": [
        "df.columns"
      ],
      "execution_count": 5,
      "outputs": [
        {
          "output_type": "execute_result",
          "data": {
            "text/plain": [
              "Index(['sexo', 'viviam_total', 'viviam_casamento', 'viviam_uniao',\n",
              "       'nao_viviam_ja', 'não_viviam_nunca'],\n",
              "      dtype='object')"
            ]
          },
          "metadata": {
            "tags": []
          },
          "execution_count": 5
        }
      ]
    },
    {
      "cell_type": "code",
      "metadata": {
        "id": "iGhQU2PGno8v",
        "colab_type": "code",
        "colab": {}
      },
      "source": [
        "df = df.loc[:, ['sexo', 'viviam_total', 'viviam_casamento', 'viviam_uniao', 'nao_viviam_ja', 'não_viviam_nunca']]"
      ],
      "execution_count": 0,
      "outputs": []
    },
    {
      "cell_type": "code",
      "metadata": {
        "id": "-ig0V0s3nyYO",
        "colab_type": "code",
        "colab": {
          "base_uri": "https://localhost:8080/",
          "height": 142
        },
        "outputId": "b63df2bf-20a6-4abd-ad61-3fa5633294b8"
      },
      "source": [
        "df"
      ],
      "execution_count": 7,
      "outputs": [
        {
          "output_type": "execute_result",
          "data": {
            "text/html": [
              "<div>\n",
              "<style scoped>\n",
              "    .dataframe tbody tr th:only-of-type {\n",
              "        vertical-align: middle;\n",
              "    }\n",
              "\n",
              "    .dataframe tbody tr th {\n",
              "        vertical-align: top;\n",
              "    }\n",
              "\n",
              "    .dataframe thead th {\n",
              "        text-align: right;\n",
              "    }\n",
              "</style>\n",
              "<table border=\"1\" class=\"dataframe\">\n",
              "  <thead>\n",
              "    <tr style=\"text-align: right;\">\n",
              "      <th></th>\n",
              "      <th>sexo</th>\n",
              "      <th>viviam_total</th>\n",
              "      <th>viviam_casamento</th>\n",
              "      <th>viviam_uniao</th>\n",
              "      <th>nao_viviam_ja</th>\n",
              "      <th>não_viviam_nunca</th>\n",
              "    </tr>\n",
              "  </thead>\n",
              "  <tbody>\n",
              "    <tr>\n",
              "      <th>0</th>\n",
              "      <td>total</td>\n",
              "      <td>56.3</td>\n",
              "      <td>36.5</td>\n",
              "      <td>19.8</td>\n",
              "      <td>18.3</td>\n",
              "      <td>25.4</td>\n",
              "    </tr>\n",
              "    <tr>\n",
              "      <th>1</th>\n",
              "      <td>homens</td>\n",
              "      <td>58.8</td>\n",
              "      <td>38.1</td>\n",
              "      <td>20.7</td>\n",
              "      <td>12.1</td>\n",
              "      <td>29.1</td>\n",
              "    </tr>\n",
              "    <tr>\n",
              "      <th>2</th>\n",
              "      <td>mulheres</td>\n",
              "      <td>54.1</td>\n",
              "      <td>35.1</td>\n",
              "      <td>19.0</td>\n",
              "      <td>23.9</td>\n",
              "      <td>22.0</td>\n",
              "    </tr>\n",
              "  </tbody>\n",
              "</table>\n",
              "</div>"
            ],
            "text/plain": [
              "       sexo  viviam_total  ...  nao_viviam_ja  não_viviam_nunca\n",
              "0     total          56.3  ...           18.3              25.4\n",
              "1    homens          58.8  ...           12.1              29.1\n",
              "2  mulheres          54.1  ...           23.9              22.0\n",
              "\n",
              "[3 rows x 6 columns]"
            ]
          },
          "metadata": {
            "tags": []
          },
          "execution_count": 7
        }
      ]
    },
    {
      "cell_type": "code",
      "metadata": {
        "id": "2n1uXgEgn_AS",
        "colab_type": "code",
        "colab": {
          "base_uri": "https://localhost:8080/",
          "height": 268
        },
        "outputId": "98d7d31a-cf77-4ee7-e2d1-9f9784980e13"
      },
      "source": [
        "df.plot.barh('sexo', width=7)\n",
        "plt.legend(bbox_to_anchor=(1,1));"
      ],
      "execution_count": 8,
      "outputs": [
        {
          "output_type": "display_data",
          "data": {
            "image/png": "[encoded data removed]",
            "text/plain": [
              "<Figure size 432x288 with 1 Axes>"
            ]
          },
          "metadata": {
            "tags": []
          }
        }
      ]
    },
    {
      "cell_type": "markdown",
      "metadata": {
        "id": "4-lUpVm8oaP0",
        "colab_type": "text"
      },
      "source": [
        "##Gráfico 4.7 (p.62). Taxa de frequência líquida ao ensino superior."
      ]
    },
    {
      "cell_type": "code",
      "metadata": {
        "id": "CmYDWM_7ogUc",
        "colab_type": "code",
        "colab": {
          "base_uri": "https://localhost:8080/",
          "height": 273
        },
        "outputId": "da94b297-dd67-4e3d-91a5-224a2079845d"
      },
      "source": [
        "dados = {\n",
        "    'categoria':['total', 'homem', 'mulher', 'branca', 'preta_ou_parda'],\n",
        "    '2005':[11.4, 9.8, 13, 17.8, 5.5],\n",
        "    '2015':[18.4, 15.4, 21.7, 26.5, 12.8]\n",
        "}\n",
        "\n",
        "df = pd.DataFrame(dados)\n",
        "\n",
        "df = df.loc[:, ['categoria', '2005', '2015']]\n",
        "\n",
        "ax = df.plot.bar('categoria', width=.7)\n",
        "plt.xticks(rotation='0')\n",
        "plt.xlabel('')\n",
        "plt.ylim(0, 35)\n",
        "\n",
        "for p in ax.patches:\n",
        "    ax.annotate(str(p.get_height()), xy=(p.get_x(), p.get_height() + .5 ), size=10)\n",
        "\n",
        "# versão rigorosa    \n",
        "#     ax.annotate(\"%.1f\" % p.get_height(), (p.get_x() + p.get_width() / 2., p.get_height()), \n",
        "#                 ha='center', va='center', xytext=(0, 10), textcoords='offset points', size=8);"
      ],
      "execution_count": 9,
      "outputs": [
        {
          "output_type": "display_data",
          "data": {
            "image/png": "[encoded data removed]",
            "text/plain": [
              "<Figure size 432x288 with 1 Axes>"
            ]
          },
          "metadata": {
            "tags": []
          }
        }
      ]
    }
  ]
}