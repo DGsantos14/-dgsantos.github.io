{
  "nbformat": 4,
  "nbformat_minor": 0,
  "metadata": {
    "colab": {
      "name": "trabalho_2.ipynb",
      "provenance": [],
      "collapsed_sections": [],
      "authorship_tag": "ABX9TyPFTp97TaKrauI+rJMFXbC0",
      "include_colab_link": true
    },
    "kernelspec": {
      "name": "python3",
      "display_name": "Python 3"
    }
  },
  "cells": [
    {
      "cell_type": "markdown",
      "metadata": {
        "id": "view-in-github",
        "colab_type": "text"
      },
      "source": [
        "<a href=\"https://colab.research.google.com/github/DGsantos14/-dgsantos.github.io/blob/master/trabalho_2.ipynb\" target=\"_parent\"><img src=\"https://colab.research.google.com/assets/colab-badge.svg\" alt=\"Open In Colab\"/></a>"
      ]
    },
    {
      "cell_type": "markdown",
      "metadata": {
        "id": "7iS0R-NXTIVP",
        "colab_type": "text"
      },
      "source": [
        "Primeiro passo é carregar os pacotes"
      ]
    },
    {
      "cell_type": "code",
      "metadata": {
        "id": "_PFfo5SRTSZL",
        "colab_type": "code",
        "colab": {}
      },
      "source": [
        "%matplotlib inline\n",
        "import pandas as pd\n",
        "import numpy as np\n",
        "import seaborn as sns\n",
        "sns.set(style='whitegrid')"
      ],
      "execution_count": 0,
      "outputs": []
    },
    {
      "cell_type": "markdown",
      "metadata": {
        "id": "9YuPOkIpTp7C",
        "colab_type": "text"
      },
      "source": [
        "O segundo passo é cria nosso conjunto de dados. Ele terá apenas seis observações de duas variáveis:cada linha é uma pessoa e as colunas informam os anos de estudos e a renda mensal deles."
      ]
    },
    {
      "cell_type": "code",
      "metadata": {
        "id": "cf80ddYUUA63",
        "colab_type": "code",
        "outputId": "455e49a0-803a-474a-8f86-427a72e0ba65",
        "colab": {
          "base_uri": "https://localhost:8080/",
          "height": 235
        }
      },
      "source": [
        "estudo = [8, 8, 10, 11, 11, 14] #cria uma lista\n",
        "salario = [1000, 1000, 1100, 1100, 1300, 2000]  #cria outra lista\n",
        "\n",
        "dados = pd.DataFrame({'estudo':estudo, 'salario':salario}) #transforma as listas em um dataframe\n",
        "dados\n"
      ],
      "execution_count": 0,
      "outputs": [
        {
          "output_type": "execute_result",
          "data": {
            "text/html": [
              "<div>\n",
              "<style scoped>\n",
              "    .dataframe tbody tr th:only-of-type {\n",
              "        vertical-align: middle;\n",
              "    }\n",
              "\n",
              "    .dataframe tbody tr th {\n",
              "        vertical-align: top;\n",
              "    }\n",
              "\n",
              "    .dataframe thead th {\n",
              "        text-align: right;\n",
              "    }\n",
              "</style>\n",
              "<table border=\"1\" class=\"dataframe\">\n",
              "  <thead>\n",
              "    <tr style=\"text-align: right;\">\n",
              "      <th></th>\n",
              "      <th>estudo</th>\n",
              "      <th>salario</th>\n",
              "    </tr>\n",
              "  </thead>\n",
              "  <tbody>\n",
              "    <tr>\n",
              "      <th>0</th>\n",
              "      <td>8</td>\n",
              "      <td>1000</td>\n",
              "    </tr>\n",
              "    <tr>\n",
              "      <th>1</th>\n",
              "      <td>8</td>\n",
              "      <td>1000</td>\n",
              "    </tr>\n",
              "    <tr>\n",
              "      <th>2</th>\n",
              "      <td>10</td>\n",
              "      <td>1100</td>\n",
              "    </tr>\n",
              "    <tr>\n",
              "      <th>3</th>\n",
              "      <td>11</td>\n",
              "      <td>1100</td>\n",
              "    </tr>\n",
              "    <tr>\n",
              "      <th>4</th>\n",
              "      <td>11</td>\n",
              "      <td>1300</td>\n",
              "    </tr>\n",
              "    <tr>\n",
              "      <th>5</th>\n",
              "      <td>14</td>\n",
              "      <td>2000</td>\n",
              "    </tr>\n",
              "  </tbody>\n",
              "</table>\n",
              "</div>"
            ],
            "text/plain": [
              "   estudo  salario\n",
              "0       8     1000\n",
              "1       8     1000\n",
              "2      10     1100\n",
              "3      11     1100\n",
              "4      11     1300\n",
              "5      14     2000"
            ]
          },
          "metadata": {
            "tags": []
          },
          "execution_count": 3
        }
      ]
    },
    {
      "cell_type": "markdown",
      "metadata": {
        "id": "Lt58xcVPYZ51",
        "colab_type": "text"
      },
      "source": [
        "Agora, já podemos fazer um diagrama de dispersão para observar a relação entre o estudo e a renda.\n"
      ]
    },
    {
      "cell_type": "code",
      "metadata": {
        "id": "uU8a80PeYgUI",
        "colab_type": "code",
        "outputId": "d174d6a8-a7b4-4a6c-b10c-743d6f6221c1",
        "colab": {
          "base_uri": "https://localhost:8080/",
          "height": 322
        }
      },
      "source": [
        "dados.plot.scatter('estudo', 'salario', s=500);"
      ],
      "execution_count": 0,
      "outputs": [
        {
          "output_type": "stream",
          "text": [
            "'c' argument looks like a single numeric RGB or RGBA sequence, which should be avoided as value-mapping will have precedence in case its length matches with 'x' & 'y'.  Please use a 2-D array with a single row if you really want to specify the same RGB or RGBA value for all points.\n"
          ],
          "name": "stderr"
        },
        {
          "output_type": "display_data",
          "data": {
            "image/png": "[encoded data removed]",
            "text/plain": [
              "<Figure size 432x288 with 1 Axes>"
            ]
          },
          "metadata": {
            "tags": []
          }
        }
      ]
    },
    {
      "cell_type": "markdown",
      "metadata": {
        "id": "daVeizgfY4XL",
        "colab_type": "text"
      },
      "source": [
        "Para calcular a média dos salários basta usar o método .mean():"
      ]
    },
    {
      "cell_type": "code",
      "metadata": {
        "id": "4Yd-jIDNY8-n",
        "colab_type": "code",
        "outputId": "46c64076-8a88-4988-e833-3c5da08e62b6",
        "colab": {
          "base_uri": "https://localhost:8080/",
          "height": 34
        }
      },
      "source": [
        "dados.salario.mean()"
      ],
      "execution_count": 0,
      "outputs": [
        {
          "output_type": "execute_result",
          "data": {
            "text/plain": [
              "1250.0"
            ]
          },
          "metadata": {
            "tags": []
          },
          "execution_count": 5
        }
      ]
    },
    {
      "cell_type": "markdown",
      "metadata": {
        "id": "wFesPtfHZN44",
        "colab_type": "text"
      },
      "source": [
        "Dado que a média é apenas:\n",
        "\n",
        "x¯=∑i=1nxin\n",
        "\n",
        "Poderíamos calculá-la assim:"
      ]
    },
    {
      "cell_type": "code",
      "metadata": {
        "id": "SAyRXxKnZhQ8",
        "colab_type": "code",
        "outputId": "47310f92-d394-46b2-857a-ea1c77704652",
        "colab": {
          "base_uri": "https://localhost:8080/",
          "height": 34
        }
      },
      "source": [
        "dados.salario.sum() / len(dados.salario)"
      ],
      "execution_count": 0,
      "outputs": [
        {
          "output_type": "execute_result",
          "data": {
            "text/plain": [
              "1250.0"
            ]
          },
          "metadata": {
            "tags": []
          },
          "execution_count": 6
        }
      ]
    },
    {
      "cell_type": "markdown",
      "metadata": {
        "id": "mLYbgYSAZzE_",
        "colab_type": "text"
      },
      "source": [
        "\n",
        "Exercício\n",
        "Calcule a média dos anos de estudo usando as duas maneiras mostradas acima."
      ]
    },
    {
      "cell_type": "code",
      "metadata": {
        "id": "y8G7TaqvZz-u",
        "colab_type": "code",
        "outputId": "5cdc8fe0-a359-4999-be50-f05838a51b27",
        "colab": {
          "base_uri": "https://localhost:8080/",
          "height": 34
        }
      },
      "source": [
        "# digite a primeira maneira aqui\n",
        "dados.estudo.mean()"
      ],
      "execution_count": 0,
      "outputs": [
        {
          "output_type": "execute_result",
          "data": {
            "text/plain": [
              "10.333333333333334"
            ]
          },
          "metadata": {
            "tags": []
          },
          "execution_count": 7
        }
      ]
    },
    {
      "cell_type": "code",
      "metadata": {
        "id": "ObWMXhtUaAp4",
        "colab_type": "code",
        "outputId": "4cb4ff58-c130-4c91-eadc-db9576c496fd",
        "colab": {
          "base_uri": "https://localhost:8080/",
          "height": 34
        }
      },
      "source": [
        "# digite a segunda maneira aqui\n",
        "dados.estudo.sum() / len(dados.estudo)"
      ],
      "execution_count": 0,
      "outputs": [
        {
          "output_type": "execute_result",
          "data": {
            "text/plain": [
              "10.333333333333334"
            ]
          },
          "metadata": {
            "tags": []
          },
          "execution_count": 9
        }
      ]
    },
    {
      "cell_type": "markdown",
      "metadata": {
        "id": "gfYriFGyaTRW",
        "colab_type": "text"
      },
      "source": [
        "Analisando a variação\n",
        "Há duas maneiras de analisar a variação: grafica ou numericamente.\n",
        "\n",
        "O histograma é o principal tipo de gráfico para avaliar a dispersão dos dados."
      ]
    },
    {
      "cell_type": "code",
      "metadata": {
        "id": "CE5jPDmHaVtW",
        "colab_type": "code",
        "outputId": "ad40cbb8-226e-4190-c501-e01ebe93ff4d",
        "colab": {
          "base_uri": "https://localhost:8080/",
          "height": 285
        }
      },
      "source": [
        "dados.salario.plot.hist(3)"
      ],
      "execution_count": 0,
      "outputs": [
        {
          "output_type": "execute_result",
          "data": {
            "text/plain": [
              "<matplotlib.axes._subplots.AxesSubplot at 0x7fd3f8833dd8>"
            ]
          },
          "metadata": {
            "tags": []
          },
          "execution_count": 10
        },
        {
          "output_type": "display_data",
          "data": {
            "image/png": "[encoded data removed]",
            "text/plain": [
              "<Figure size 432x288 with 1 Axes>"
            ]
          },
          "metadata": {
            "tags": []
          }
        }
      ]
    },
    {
      "cell_type": "markdown",
      "metadata": {
        "id": "b2nesbIOagIt",
        "colab_type": "text"
      },
      "source": [
        "Como temos apenas seis observações, o histograma ficou um pouco estranho. Uma alternativa é um gráfico de densidade, uma versão suavizada do histograma."
      ]
    },
    {
      "cell_type": "code",
      "metadata": {
        "id": "4WpQwx9oah_4",
        "colab_type": "code",
        "outputId": "f01e159c-dbe7-4063-f63c-edc61deec333",
        "colab": {
          "base_uri": "https://localhost:8080/",
          "height": 271
        }
      },
      "source": [
        "dados.salario.plot.kde();"
      ],
      "execution_count": 0,
      "outputs": [
        {
          "output_type": "display_data",
          "data": {
            "image/png": "[encoded data removed]",
            "text/plain": [
              "<Figure size 432x288 with 1 Axes>"
            ]
          },
          "metadata": {
            "tags": []
          }
        }
      ]
    },
    {
      "cell_type": "markdown",
      "metadata": {
        "id": "OM9hUq7lasHX",
        "colab_type": "text"
      },
      "source": [
        "\n",
        "Exercício\n",
        "Faça o histograma e o gráfico de dispersão para os anos de estudo.\n"
      ]
    },
    {
      "cell_type": "code",
      "metadata": {
        "id": "vNcw90i3awr2",
        "colab_type": "code",
        "outputId": "57e33b81-67e8-48e8-df0c-c3d7e09c7e92",
        "colab": {
          "base_uri": "https://localhost:8080/",
          "height": 268
        }
      },
      "source": [
        "#digite o comando para a histagrama aqui.\n",
        "dados.estudo.plot.hist();"
      ],
      "execution_count": 0,
      "outputs": [
        {
          "output_type": "display_data",
          "data": {
            "image/png": "[encoded data removed]",
            "text/plain": [
              "<Figure size 432x288 with 1 Axes>"
            ]
          },
          "metadata": {
            "tags": []
          }
        }
      ]
    },
    {
      "cell_type": "code",
      "metadata": {
        "id": "hpQ9KfsHbGz1",
        "colab_type": "code",
        "outputId": "5b5e6e93-5305-431e-f08b-4114a726bd6a",
        "colab": {
          "base_uri": "https://localhost:8080/",
          "height": 268
        }
      },
      "source": [
        "#digite o comando oara o gráfico de dispersão aqui.\n",
        "dados.estudo.plot.kde();"
      ],
      "execution_count": 0,
      "outputs": [
        {
          "output_type": "display_data",
          "data": {
            "image/png": "[encoded data removed]",
            "text/plain": [
              "<Figure size 432x288 with 1 Axes>"
            ]
          },
          "metadata": {
            "tags": []
          }
        }
      ]
    },
    {
      "cell_type": "markdown",
      "metadata": {
        "id": "ItaS5qXebfqz",
        "colab_type": "text"
      },
      "source": [
        "\n",
        "\n",
        "Para avaliar a dispersão numericamente é importante entender a ideia de desvio médio:\n",
        "\n",
        "a média da distância de cada um dos dados em relação à média.\n",
        "\n",
        "O primeiro passo, portanto, é:\n"
      ]
    },
    {
      "cell_type": "code",
      "metadata": {
        "id": "qpRdbNLPbz_G",
        "colab_type": "code",
        "outputId": "050b39c5-5959-4ba0-a7fd-dae365d23854",
        "colab": {
          "base_uri": "https://localhost:8080/",
          "height": 136
        }
      },
      "source": [
        "dados.salario - dados.salario.mean()"
      ],
      "execution_count": 0,
      "outputs": [
        {
          "output_type": "execute_result",
          "data": {
            "text/plain": [
              "0   -250.0\n",
              "1   -250.0\n",
              "2   -150.0\n",
              "3   -150.0\n",
              "4     50.0\n",
              "5    750.0\n",
              "Name: salario, dtype: float64"
            ]
          },
          "metadata": {
            "tags": []
          },
          "execution_count": 17
        }
      ]
    },
    {
      "cell_type": "code",
      "metadata": {
        "id": "q8uaWzQ7biBl",
        "colab_type": "code",
        "outputId": "a5dbde40-8cc3-422a-fe77-fd816aabc637",
        "colab": {
          "base_uri": "https://localhost:8080/",
          "height": 34
        }
      },
      "source": [
        "(dados.salario - dados.salario.mean()) .mean()"
      ],
      "execution_count": 0,
      "outputs": [
        {
          "output_type": "execute_result",
          "data": {
            "text/plain": [
              "0.0"
            ]
          },
          "metadata": {
            "tags": []
          },
          "execution_count": 16
        }
      ]
    },
    {
      "cell_type": "markdown",
      "metadata": {
        "id": "Got3qTDtcGCu",
        "colab_type": "text"
      },
      "source": [
        "A solução é calcular o módulo de cada uma das diferenças antes de fazer o somatório, a diferença absoluta média (mean absolute difference):\n",
        "\n",
        "MAD=∑i=1n|xi−x¯|n\n",
        "Para calculá-la basta acrescentar o método .abs() a nosso comando.\n"
      ]
    },
    {
      "cell_type": "code",
      "metadata": {
        "id": "OMjparcGcKJc",
        "colab_type": "code",
        "outputId": "ad387d7a-31a3-4450-d051-603f11dc41c2",
        "colab": {
          "base_uri": "https://localhost:8080/",
          "height": 34
        }
      },
      "source": [
        "(dados.salario - dados.salario.mean()).abs().mean()"
      ],
      "execution_count": 0,
      "outputs": [
        {
          "output_type": "execute_result",
          "data": {
            "text/plain": [
              "266.6666666666667"
            ]
          },
          "metadata": {
            "tags": []
          },
          "execution_count": 18
        }
      ]
    },
    {
      "cell_type": "markdown",
      "metadata": {
        "id": "qmlrkp0_chEL",
        "colab_type": "text"
      },
      "source": [
        "Na prática, usamos a função já pronta:"
      ]
    },
    {
      "cell_type": "code",
      "metadata": {
        "id": "OxG4gtGdcEq4",
        "colab_type": "code",
        "outputId": "c8b1d05a-ac2c-49a0-8061-cbbb82920b05",
        "colab": {
          "base_uri": "https://localhost:8080/",
          "height": 34
        }
      },
      "source": [
        "dados.salario.mad()"
      ],
      "execution_count": 0,
      "outputs": [
        {
          "output_type": "execute_result",
          "data": {
            "text/plain": [
              "266.6666666666667"
            ]
          },
          "metadata": {
            "tags": []
          },
          "execution_count": 19
        }
      ]
    },
    {
      "cell_type": "markdown",
      "metadata": {
        "id": "0DMc44oGc3sg",
        "colab_type": "text"
      },
      "source": [
        "ontudo, a MAD não é a medida de dispersão mais usada. A variância e o desvio padrão são muito mais comuns.\n",
        "Ao invés de calcularem o módulo, eles elevam os valores ao quadrado, são medidas baseadas no quadrado da diferença.\n",
        "\n",
        "Para calculá-los, basta usar os seguintes comandos:"
      ]
    },
    {
      "cell_type": "code",
      "metadata": {
        "id": "iqqGFBMUc6wT",
        "colab_type": "code",
        "outputId": "aa0c8cb0-30cc-470d-993a-122136508ecd",
        "colab": {
          "base_uri": "https://localhost:8080/",
          "height": 34
        }
      },
      "source": [
        "dados.salario.var()"
      ],
      "execution_count": 0,
      "outputs": [
        {
          "output_type": "execute_result",
          "data": {
            "text/plain": [
              "147000.0"
            ]
          },
          "metadata": {
            "tags": []
          },
          "execution_count": 20
        }
      ]
    },
    {
      "cell_type": "code",
      "metadata": {
        "id": "2qwaI3rpdJQK",
        "colab_type": "code",
        "outputId": "4b69c4d5-7d5d-4a73-9a25-d8027fbd5add",
        "colab": {
          "base_uri": "https://localhost:8080/",
          "height": 34
        }
      },
      "source": [
        "dados.salario.std()"
      ],
      "execution_count": 0,
      "outputs": [
        {
          "output_type": "execute_result",
          "data": {
            "text/plain": [
              "383.40579025361626"
            ]
          },
          "metadata": {
            "tags": []
          },
          "execution_count": 21
        }
      ]
    },
    {
      "cell_type": "markdown",
      "metadata": {
        "id": "X4i9G13Od5fy",
        "colab_type": "text"
      },
      "source": [
        "O desvio padrão é simplesmente a raiz quadrada da variância:"
      ]
    },
    {
      "cell_type": "code",
      "metadata": {
        "id": "376CvG0Wd6pC",
        "colab_type": "code",
        "outputId": "a1247b01-ca69-4ced-bc97-90102a7456ad",
        "colab": {
          "base_uri": "https://localhost:8080/",
          "height": 34
        }
      },
      "source": [
        "np.sqrt(dados.salario.var())"
      ],
      "execution_count": 0,
      "outputs": [
        {
          "output_type": "execute_result",
          "data": {
            "text/plain": [
              "383.40579025361626"
            ]
          },
          "metadata": {
            "tags": []
          },
          "execution_count": 22
        }
      ]
    },
    {
      "cell_type": "markdown",
      "metadata": {
        "id": "gX9VUCdOeIUc",
        "colab_type": "text"
      },
      "source": [
        "A vantagem do desvio padrão em relação à variância é o fato de ele estar na escala dos dados.\n",
        "\n",
        "Como você pode observar, o desvio padrão foi maior do que a MAD. Isso acontece porque, por elevar ao quadrado, ele dá maior peso aos valores mais distantes da média. Além, seu denominador é n−1, não n. Todas essas diferenças derivam de questões mais profundas de teoria estatística, relacionadas ao Teorema do Limite Central, à curva normal e ao processo de amostragem.\n",
        "\n",
        "Aqui estão as fórmulas da variância (S2) e do desvio padrão (S):\n",
        "\n",
        "S2=∑i=1n(xi−x¯)2n−1\n",
        "S=∑i=1n(xi−x¯)2n−1−−−−−−−−−−−⎷"
      ]
    },
    {
      "cell_type": "markdown",
      "metadata": {
        "id": "k-jYcwpSeOOd",
        "colab_type": "text"
      },
      "source": [
        "\n",
        "\n",
        "Exercício avançado (opcional)\n",
        "Calcule a variância e o desvio padrão dos salário manualmente (isto é, usando apenas as funções básicas do python: multiplicação, divisão, raiz quadrada etc.), como fizemos acima com a média e o MAD."
      ]
    },
    {
      "cell_type": "code",
      "metadata": {
        "id": "jtoonPxFeQY0",
        "colab_type": "code",
        "outputId": "672512b3-852c-488a-c45a-d1e21c2c57ca",
        "colab": {
          "base_uri": "https://localhost:8080/",
          "height": 34
        }
      },
      "source": [
        "#Cálcule manual da variância\n",
        "((dados.salario - dados.salario.mean()) ** 2).sum() / (len(dados.salario) - 1)"
      ],
      "execution_count": 0,
      "outputs": [
        {
          "output_type": "execute_result",
          "data": {
            "text/plain": [
              "147000.0"
            ]
          },
          "metadata": {
            "tags": []
          },
          "execution_count": 23
        }
      ]
    },
    {
      "cell_type": "code",
      "metadata": {
        "id": "xi7AY8QheMje",
        "colab_type": "code",
        "outputId": "23dd5752-0336-4c48-c039-3a961e3e1d27",
        "colab": {
          "base_uri": "https://localhost:8080/",
          "height": 34
        }
      },
      "source": [
        "#Cálculo manual do desvio padrão\n",
        "v = ((dados.salario - dados.salario.mean()) ** 2).sum() / (len(dados.salario) - 1)\n",
        "v ** 0.5"
      ],
      "execution_count": 0,
      "outputs": [
        {
          "output_type": "execute_result",
          "data": {
            "text/plain": [
              "383.40579025361626"
            ]
          },
          "metadata": {
            "tags": []
          },
          "execution_count": 26
        }
      ]
    },
    {
      "cell_type": "markdown",
      "metadata": {
        "id": "Moc50Lh2fNF9",
        "colab_type": "text"
      },
      "source": [
        "Calculando a correlação\n",
        "A correlação é a principal medida de variação conjunta de duas variáveis.\n",
        "\n",
        "Basta digitar o seguinte:\n"
      ]
    },
    {
      "cell_type": "code",
      "metadata": {
        "id": "KvnVINpIfMSO",
        "colab_type": "code",
        "outputId": "8052235d-9425-482a-a257-95b38e7e5ea9",
        "colab": {
          "base_uri": "https://localhost:8080/",
          "height": 34
        }
      },
      "source": [
        "dados.estudo.corr(dados.salario)"
      ],
      "execution_count": 0,
      "outputs": [
        {
          "output_type": "execute_result",
          "data": {
            "text/plain": [
              "0.903805060585677"
            ]
          },
          "metadata": {
            "tags": []
          },
          "execution_count": 27
        }
      ]
    },
    {
      "cell_type": "markdown",
      "metadata": {
        "id": "MF_FjwXofY23",
        "colab_type": "text"
      },
      "source": [
        "Para calcular a correlação entre todas as variáveis de um dataframe:"
      ]
    },
    {
      "cell_type": "code",
      "metadata": {
        "id": "MpmwYwHrfaMI",
        "colab_type": "code",
        "outputId": "f0f23bbc-2776-4862-cc70-cdb0cfec2b00",
        "colab": {
          "base_uri": "https://localhost:8080/",
          "height": 111
        }
      },
      "source": [
        "dados.corr()"
      ],
      "execution_count": 0,
      "outputs": [
        {
          "output_type": "execute_result",
          "data": {
            "text/html": [
              "<div>\n",
              "<style scoped>\n",
              "    .dataframe tbody tr th:only-of-type {\n",
              "        vertical-align: middle;\n",
              "    }\n",
              "\n",
              "    .dataframe tbody tr th {\n",
              "        vertical-align: top;\n",
              "    }\n",
              "\n",
              "    .dataframe thead th {\n",
              "        text-align: right;\n",
              "    }\n",
              "</style>\n",
              "<table border=\"1\" class=\"dataframe\">\n",
              "  <thead>\n",
              "    <tr style=\"text-align: right;\">\n",
              "      <th></th>\n",
              "      <th>estudo</th>\n",
              "      <th>salario</th>\n",
              "    </tr>\n",
              "  </thead>\n",
              "  <tbody>\n",
              "    <tr>\n",
              "      <th>estudo</th>\n",
              "      <td>1.000000</td>\n",
              "      <td>0.903805</td>\n",
              "    </tr>\n",
              "    <tr>\n",
              "      <th>salario</th>\n",
              "      <td>0.903805</td>\n",
              "      <td>1.000000</td>\n",
              "    </tr>\n",
              "  </tbody>\n",
              "</table>\n",
              "</div>"
            ],
            "text/plain": [
              "           estudo   salario\n",
              "estudo   1.000000  0.903805\n",
              "salario  0.903805  1.000000"
            ]
          },
          "metadata": {
            "tags": []
          },
          "execution_count": 28
        }
      ]
    }
  ]
}